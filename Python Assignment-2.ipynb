{
 "cells": [
  {
   "cell_type": "code",
   "execution_count": null,
   "metadata": {},
   "outputs": [],
   "source": [
    "# Assignment-2 Task-1 Code: 1.1"
   ]
  },
  {
   "cell_type": "code",
   "execution_count": 2,
   "metadata": {
    "scrolled": true
   },
   "outputs": [
    {
     "name": "stdout",
     "output_type": "stream",
     "text": [
      "Addition of list: 21\n"
     ]
    }
   ],
   "source": [
    "def myreduce(add, w):\n",
    "    x = w[0]  \n",
    "    for i in w[1:]:\n",
    "        x = add(x, i)\n",
    "    return x\n",
    "\n",
    "def add(x,y): return x + y\n",
    "\n",
    "l = [1,2,3,4,5,6]\n",
    "print(\"Addition of list: \"  + str(myreduce(add, l)))"
   ]
  },
  {
   "cell_type": "code",
   "execution_count": null,
   "metadata": {},
   "outputs": [],
   "source": [
    "# Task-1 Code: 1.2"
   ]
  },
  {
   "cell_type": "code",
   "execution_count": 4,
   "metadata": {},
   "outputs": [
    {
     "name": "stdout",
     "output_type": "stream",
     "text": [
      "Filter iseven function: [2, 4, 6]\n"
     ]
    }
   ],
   "source": [
    "def myfilter(iseven, w):\n",
    "    \n",
    "    r=[]\n",
    "    for i in w:\n",
    "        if iseven(i):\n",
    "            r.append(i)\n",
    "            \n",
    "    return r     \n",
    "\n",
    "def iseven(x):\n",
    "    if x%2==0:\n",
    "        return True\n",
    "    else:\n",
    "        return False\n",
    "    \n",
    "l = [1,2,3,4,5,6]\n",
    "print(\"Filter iseven function: \" + str(myfilter(iseven,l)))    \n",
    "        "
   ]
  },
  {
   "cell_type": "code",
   "execution_count": null,
   "metadata": {},
   "outputs": [],
   "source": [
    "# Task-1 Code: 2"
   ]
  },
  {
   "cell_type": "code",
   "execution_count": 19,
   "metadata": {},
   "outputs": [
    {
     "name": "stdout",
     "output_type": "stream",
     "text": [
      "['A', 'C', 'A', 'D', 'G', 'I', 'L', 'D']\n",
      "['x', 'xx', 'xxx', 'xxxx', 'y', 'yy', 'yyy', 'yyyy', 'z', 'zz', 'zzz', 'zzzz']\n",
      "['x', 'y', 'z', 'xx', 'yy', 'zz', 'xxx', 'yyy', 'zzz', 'xxxx', 'yyyy', 'zzzz']\n",
      "[[2], [3], [4], [3], [4], [5], [4], [5], [6]]\n",
      "[[2, 3, 4, 5], [3, 4, 5, 6], [4, 5, 6, 7], [5, 6, 7, 8]]\n",
      "[(1, 1), (2, 1), (3, 1), (1, 2), (2, 2), (3, 2), (1, 3), (2, 3), (3, 3)]\n"
     ]
    }
   ],
   "source": [
    "l=[i for i in 'ACADGILD']\n",
    "print(l)\n",
    "\n",
    "e=['x','y','z']\n",
    "w=[i*q for i in e for q in range(1,5)]\n",
    "print(w)\n",
    "\n",
    "a1=[i*q for i in range(1,5) for q in e]\n",
    "print(a1)\n",
    "\n",
    "z=[2,3,4]\n",
    "a2=[[i+q] for i in z for q in range(0,3)]\n",
    "print(a2)\n",
    "\n",
    "x=[2,3,4,5]\n",
    "a3=[ [i+q for i in x] for q in range(0,4)]\n",
    "print(a3)\n",
    "\n",
    "a4=[(q,i) for i in range(1,4) for q in range(1,4)]\n",
    "print(a4)"
   ]
  },
  {
   "cell_type": "code",
   "execution_count": null,
   "metadata": {},
   "outputs": [],
   "source": [
    "# Task-1 Code: 3"
   ]
  },
  {
   "cell_type": "code",
   "execution_count": 24,
   "metadata": {},
   "outputs": [
    {
     "name": "stdout",
     "output_type": "stream",
     "text": [
      "regfewferf\n"
     ]
    }
   ],
   "source": [
    "def longestWord(l):\n",
    "    w=[]\n",
    "    for i in l:\n",
    "        x=len(i)\n",
    "        w.append(x)\n",
    "        \n",
    "    m=max(w)\n",
    "    a=w.index(m)\n",
    "    return l[a]\n",
    "\n",
    "li1=['sfv','fdvfd','freewef','regfewferf','fefw','rewww']\n",
    "print(longestWord(li1))"
   ]
  },
  {
   "cell_type": "code",
   "execution_count": null,
   "metadata": {},
   "outputs": [],
   "source": [
    "# Task-2 Code: 1.2"
   ]
  },
  {
   "cell_type": "code",
   "execution_count": 28,
   "metadata": {},
   "outputs": [
    {
     "name": "stdout",
     "output_type": "stream",
     "text": [
      "Enter a number: 4\n",
      "['fdvfd', 'freewef', 'regfewferf', 'rewww', 'weded', 'fbgjm']\n"
     ]
    }
   ],
   "source": [
    "def filter_long_words(l,n):\n",
    "    w=[]\n",
    "    for i in l:\n",
    "        if len(i)>n:\n",
    "            w.append(i)\n",
    "    \n",
    "    return w\n",
    "\n",
    "list1=['sfv','fdvfd','freewef','regfewferf','fefw','rewww','dw','weded','fbgjm']\n",
    "n=int(input('Enter a number: '))\n",
    "print(filter_long_words(list1,n))"
   ]
  },
  {
   "cell_type": "code",
   "execution_count": null,
   "metadata": {},
   "outputs": [],
   "source": [
    "# Task-2 Code: 2.1"
   ]
  },
  {
   "cell_type": "code",
   "execution_count": 2,
   "metadata": {},
   "outputs": [
    {
     "name": "stdout",
     "output_type": "stream",
     "text": [
      "[3, 5, 7, 10, 4, 5, 2, 5, 5]\n"
     ]
    }
   ],
   "source": [
    "def wordlength(l):\n",
    "    w=[]\n",
    "    for i in l:\n",
    "        x=len(i)\n",
    "        w.append(x)\n",
    "        \n",
    "    return w\n",
    "\n",
    "list1=['sfv','fdvfd','freewef','regfewferf','fefw','rewww','dw','weded','fbgjm']\n",
    "print(wordlength(list1))"
   ]
  },
  {
   "cell_type": "code",
   "execution_count": null,
   "metadata": {},
   "outputs": [],
   "source": [
    "# Task-2 Code: 2.2"
   ]
  },
  {
   "cell_type": "code",
   "execution_count": 34,
   "metadata": {},
   "outputs": [
    {
     "name": "stdout",
     "output_type": "stream",
     "text": [
      "Enter a single character: z\n",
      "False\n"
     ]
    }
   ],
   "source": [
    "def isvowel(v):\n",
    "    l=['a','e','i','o','u']\n",
    "    if v in l:\n",
    "        return True\n",
    "    else:\n",
    "        return False\n",
    "\n",
    "c=input('Enter a single character: ')    \n",
    "print(isvowel(c))    \n",
    "        "
   ]
  }
 ],
 "metadata": {
  "kernelspec": {
   "display_name": "Python 3",
   "language": "python",
   "name": "python3"
  },
  "language_info": {
   "codemirror_mode": {
    "name": "ipython",
    "version": 3
   },
   "file_extension": ".py",
   "mimetype": "text/x-python",
   "name": "python",
   "nbconvert_exporter": "python",
   "pygments_lexer": "ipython3",
   "version": "3.7.3"
  }
 },
 "nbformat": 4,
 "nbformat_minor": 2
}
